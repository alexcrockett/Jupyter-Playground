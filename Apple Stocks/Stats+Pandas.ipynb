{
 "cells": [
  {
   "cell_type": "code",
   "execution_count": 1,
   "outputs": [
    {
     "data": {
      "text/plain": "\"\\nHere we are going to do a number of things.\\n1. We will import a spreadsheet\\n2. We will then use the spreadsheet to define an array in numpy\\n3. We will do some statistics in pandas\\n4. We will manipulate the array in numpy\\n5. We'll define some functions using the data\\n\""
     },
     "execution_count": 1,
     "metadata": {},
     "output_type": "execute_result"
    }
   ],
   "source": [
    "'''\n",
    "Here we are going to do a number of things.\n",
    "1. We will import a spreadsheet\n",
    "2. We will then use the spreadsheet to define an array in numpy\n",
    "3. We will do some statistics in pandas\n",
    "4. We will manipulate the array in numpy\n",
    "5. We'll define some functions using the data\n",
    "'''"
   ],
   "metadata": {
    "collapsed": false,
    "ExecuteTime": {
     "end_time": "2023-12-09T02:29:12.940304Z",
     "start_time": "2023-12-09T02:29:12.923975Z"
    }
   }
  },
  {
   "cell_type": "code",
   "execution_count": 2,
   "outputs": [],
   "source": [
    "import numpy as np\n",
    "import pandas as pd\n",
    "apples = pd.read_csv('AppleStockPrices.csv')\n"
   ],
   "metadata": {
    "collapsed": false,
    "ExecuteTime": {
     "end_time": "2023-12-09T02:29:14.616102Z",
     "start_time": "2023-12-09T02:29:12.935955Z"
    }
   }
  },
  {
   "cell_type": "code",
   "execution_count": 3,
   "outputs": [
    {
     "name": "stdout",
     "output_type": "stream",
     "text": [
      "         Date    Open    High     Low   Close    Volume  Adj Close\n",
      "0    1/3/2011  325.64  330.26  324.84  329.57  15883600     329.57\n",
      "1    1/4/2011  332.44  332.50  328.15  331.29  11038600     331.29\n",
      "2    1/5/2011  329.55  334.34  329.50  334.00   9058700     334.00\n",
      "3    1/6/2011  334.72  335.25  332.90  333.73  10709500     333.73\n",
      "4    1/7/2011  333.99  336.35  331.90  336.12  11096800     336.12\n",
      "5   1/10/2011  338.83  343.23  337.17  342.45  16000400     342.45\n",
      "6   1/11/2011  344.88  344.96  339.47  341.64  15814500     341.64\n",
      "7   1/12/2011  343.25  344.43  342.00  344.42  10790700     344.42\n",
      "8   1/13/2011  345.16  346.64  343.85  345.68  10599300     345.68\n",
      "9   1/14/2011  345.89  348.48  344.44  348.48  10998600     348.48\n",
      "10  1/18/2011  329.52  344.76  326.00  340.65  66831600     340.65\n",
      "11  1/19/2011  348.35  348.60  336.88  338.84  40494700     338.84\n",
      "12  1/20/2011  336.43  338.30  330.12  332.68  27290500     332.68\n",
      "13  1/21/2011  333.77  334.88  326.63  326.72  26915000     326.72\n",
      "14  1/24/2011  326.87  337.45  326.72  337.45  20500100     337.45\n",
      "15  1/25/2011  336.33  341.44  334.57  341.40  19436600     341.40\n",
      "16  1/26/2011  342.96  345.60  341.50  343.85  18084500     343.85\n",
      "17  1/27/2011  343.78  344.69  342.83  343.21  10169300     343.21\n",
      "18  1/28/2011  344.17  344.40  333.53  336.10  21116400     336.10\n",
      "19  1/31/2011  335.80  340.04  334.30  339.32  13461000     339.32\n",
      "20   2/1/2011  341.30  345.65  340.98  345.03  15221100     345.03\n",
      "21   2/2/2011  344.45  345.25  343.55  344.32   9238300     344.32\n",
      "22   2/3/2011  343.80  344.24  338.55  343.44  14043100     343.44\n",
      "23   2/4/2011  343.64  346.70  343.51  346.50  11479800     346.50\n",
      "24   2/7/2011  347.89  353.25  347.64  351.88  17299100     351.88\n",
      "25   2/8/2011  353.68  355.52  352.15  355.20  13579500     355.20\n",
      "26   2/9/2011  355.19  359.00  354.87  358.16  17222400     358.16\n",
      "27  2/10/2011  357.39  360.00  348.00  354.54  33126100     354.54\n",
      "28  2/11/2011  354.75  357.80  353.54  356.85  13114400     356.85\n",
      "29  2/14/2011  356.79  359.48  356.71  359.18  11073100     359.18\n",
      "30  2/15/2011  359.19  359.97  357.55  359.90  10126300     359.90\n",
      "31  2/16/2011  360.80  364.90  360.50  363.13  17044800     363.13\n",
      "32  2/17/2011  357.25  360.27  356.52  358.30  18918900     358.30\n",
      "33  2/18/2011  358.71  359.50  349.52  350.56  29077700     350.56\n"
     ]
    }
   ],
   "source": [
    "print(apples)"
   ],
   "metadata": {
    "collapsed": false,
    "ExecuteTime": {
     "end_time": "2023-12-09T02:29:14.634313Z",
     "start_time": "2023-12-09T02:29:14.617175Z"
    }
   }
  },
  {
   "cell_type": "code",
   "execution_count": 4,
   "outputs": [
    {
     "data": {
      "text/plain": "'\\nMeans\\nTotal sums\\nMaximums\\nMinimums\\nCounts\\nMedians\\nStandard deviation of salaries\\nVariance of of salaries\\n'"
     },
     "execution_count": 4,
     "metadata": {},
     "output_type": "execute_result"
    }
   ],
   "source": [
    "'''\n",
    "Means\n",
    "Total sums\n",
    "Maximums\n",
    "Minimums\n",
    "Counts\n",
    "Medians\n",
    "Standard deviation of salaries\n",
    "Variance of of salaries\n",
    "'''"
   ],
   "metadata": {
    "collapsed": false,
    "ExecuteTime": {
     "end_time": "2023-12-09T02:29:14.670974Z",
     "start_time": "2023-12-09T02:29:14.632952Z"
    }
   }
  },
  {
   "cell_type": "code",
   "execution_count": 5,
   "outputs": [
    {
     "name": "stdout",
     "output_type": "stream",
     "text": [
      "Mean Open: 343.74\n",
      "Mean High: 346.71\n",
      "Mean Low: 340.91\n",
      "Mean Close: 344.55\n",
      "Mean Volume: 18142794.12\n"
     ]
    }
   ],
   "source": [
    "# Calculating means and storing variables for later\n",
    "mean_Open = apples['Open'].mean() # Mean Open\n",
    "mean_High = apples['High'].mean() # Mean High\n",
    "mean_Low = apples['Low'].mean() # Mean Low\n",
    "mean_Close = apples['Close'].mean() # Mean Close\n",
    "mean_Volume = apples['Volume'].mean()\n",
    "\n",
    "\n",
    "# Calculating the mean values and storing them in a dictionary\n",
    "mean_values = {\n",
    "    \"Mean Open\": apples['Open'].mean(), # Mean Open\n",
    "    \"Mean High\": apples['High'].mean(), # Mean High\n",
    "    \"Mean Low\": apples['Low'].mean(), # Mean Low\n",
    "    \"Mean Close\": apples['Close'].mean(), # Mean Close\n",
    "    \"Mean Volume\": apples['Volume'].mean() # Mean Volume\n",
    "}\n",
    "\n",
    "# Iterating over the dictionary and printing each item\n",
    "for key, value in mean_values.items():\n",
    "    print(f\"{key}: {value:.2f}\")"
   ],
   "metadata": {
    "collapsed": false,
    "ExecuteTime": {
     "end_time": "2023-12-09T02:29:14.672447Z",
     "start_time": "2023-12-09T02:29:14.645643Z"
    }
   }
  },
  {
   "cell_type": "code",
   "execution_count": 7,
   "outputs": [
    {
     "name": "stdout",
     "output_type": "stream",
     "text": [
      "[[3.43740000e+02]\n",
      " [3.46709706e+02]\n",
      " [3.40908529e+02]\n",
      " [3.44546765e+02]\n",
      " [1.81427941e+07]]\n"
     ]
    }
   ],
   "source": [
    "# Create an array of values that can be manipulated later\n",
    "\n",
    "mean_array = x_1 = np.array([mean_Open, mean_High, mean_Low, mean_Close, mean_Volume])\n",
    "x_1 = mean_array.reshape((-1, 1))\n",
    "print(x_1)\n"
   ],
   "metadata": {
    "collapsed": false,
    "ExecuteTime": {
     "end_time": "2023-12-09T02:30:10.078483Z",
     "start_time": "2023-12-09T02:30:10.055902Z"
    }
   }
  },
  {
   "cell_type": "code",
   "execution_count": 6,
   "outputs": [],
   "source": [],
   "metadata": {
    "collapsed": false,
    "ExecuteTime": {
     "end_time": "2023-12-09T02:29:14.673782Z",
     "start_time": "2023-12-09T02:29:14.660681Z"
    }
   }
  }
 ],
 "metadata": {
  "kernelspec": {
   "display_name": "Python 3",
   "language": "python",
   "name": "python3"
  },
  "language_info": {
   "codemirror_mode": {
    "name": "ipython",
    "version": 2
   },
   "file_extension": ".py",
   "mimetype": "text/x-python",
   "name": "python",
   "nbconvert_exporter": "python",
   "pygments_lexer": "ipython2",
   "version": "2.7.6"
  }
 },
 "nbformat": 4,
 "nbformat_minor": 0
}
