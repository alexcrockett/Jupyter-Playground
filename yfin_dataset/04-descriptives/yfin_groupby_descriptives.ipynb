{
 "cells": [
  {
   "cell_type": "markdown",
   "id": "09dc788f-d97c-4bd2-a977-234cc76cf7fb",
   "metadata": {},
   "source": [
    "# Grouping\n",
    "\n",
    "We saw in our cursory review of the descriptives that there is evidence the data is skewed. We also saw that there are some other interesting patterns to the data. We saw for example that the range of scores was quite large. However, we also saw that there appeared to a large amount of intra-statistic-consistency across each of the areas measured (Open, High, Low etc.). \n",
    "\n",
    "Ahead of further analysis we want to understnd these patterns better, such that we better frame further tests. It might be that there are companies we want to exclude, it may be that there are specific time period that impact the data. These findings might tell us we need to transform the data for tests we will later use. We may find that the year has an impact on the data also, which will further change how we want to analyse further.\n",
    "\n",
    "Importantly, there are 500 companies in the data with 9 columns of values daily over a 5 year period. This is equivalent to approximately **5,850,000** individual values. This poses a significant computational challenge. We therefore need to find a way to minimize this number so that we can more effectively compute. We will therefore average high and low scores for each company and use only these means. \n",
    "\n",
    "We will then Find the first and fourth quartiles of this data. We can then compare these score and more importantly, test to see if either the fourth or the 1st quartile differ significntly enough from the second and third quartiles.\n",
    "\n",
    "**We will do the following:**\n",
    "- Find the top quartile of companies\n",
    "- Find the bottom quartile of companies\n",
    "- Compare first and fourth with the second and third\n",
    "- Compare descriptives for groups based on company\n",
    "- Compare descriptives for years\n",
    "- Test skewness and goodness of fit directly"
   ]
  },
  {
   "cell_type": "code",
   "execution_count": 1,
   "id": "7860ea45-a5f9-4ad6-9dff-1258f109c003",
   "metadata": {},
   "outputs": [
    {
     "name": "stdout",
     "output_type": "stream",
     "text": [
      "                        Date        Open        High         Low       Close  \\\n",
      "0  2018-11-29 00:00:00-05:00   43.829761   43.863354   42.639594   43.083508   \n",
      "1  2018-11-29 00:00:00-05:00  104.769074  105.519257  103.534595  104.636131   \n",
      "2  2018-11-29 00:00:00-05:00   54.176498   55.007500   54.099998   54.729000   \n",
      "3  2018-11-29 00:00:00-05:00   83.749496   84.499496   82.616501   83.678497   \n",
      "4  2018-11-29 00:00:00-05:00   39.692784   40.064904   38.735195   39.037853   \n",
      "\n",
      "      Volume  Dividends  Stock Splits Company  \n",
      "0  167080000       0.00           0.0    AAPL  \n",
      "1   28123200       0.00           0.0    MSFT  \n",
      "2   31004000       0.00           0.0   GOOGL  \n",
      "3  132264000       0.00           0.0    AMZN  \n",
      "4   54917200       0.04           0.0    NVDA  \n"
     ]
    }
   ],
   "source": [
    "# Import modules and variables we need \n",
    "import yfin_descriptives_py # import our previous work\n",
    "from yfin_descriptives_py import x_1, x_2, x_3, x_4, x_5, x_6, x_7 # import arrays\n",
    "from yfin_descriptives_py import di_mean1, di_median1, di_max_min_range, di_var1, di_std1 # import disctionaries\n",
    "import numpy as np\n",
    "import pandas as pd"
   ]
  },
  {
   "cell_type": "code",
   "execution_count": null,
   "id": "31db1618-549d-44a0-9a5c-ddb2b327860d",
   "metadata": {},
   "outputs": [],
   "source": [
    "# Finding the fourth quartile of data\n",
    "\n",
    "## "
   ]
  }
 ],
 "metadata": {
  "kernelspec": {
   "display_name": "Python 3 (ipykernel)",
   "language": "python",
   "name": "python3"
  },
  "language_info": {
   "codemirror_mode": {
    "name": "ipython",
    "version": 3
   },
   "file_extension": ".py",
   "mimetype": "text/x-python",
   "name": "python",
   "nbconvert_exporter": "python",
   "pygments_lexer": "ipython3",
   "version": "3.8.17"
  }
 },
 "nbformat": 4,
 "nbformat_minor": 5
}
