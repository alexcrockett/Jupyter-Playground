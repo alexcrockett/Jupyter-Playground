{
 "cells": [
  {
   "cell_type": "markdown",
   "id": "09dc788f-d97c-4bd2-a977-234cc76cf7fb",
   "metadata": {},
   "source": [
    "# Grouping\n",
    "\n",
    "We saw in our cursory review of the descriptives that there is evidence the data is skewed. We also saw that there are some other interesting patterns to the data. We saw for example that the range of scores was quite large. However, we also saw that there appeared to a large amount of intra-statistic-consistency across each of the areas measured (Open, High, Low etc.). \n",
    "\n",
    "Ahead of further analysis we want to understnd these patterns better, such that we better frame further tests. It might be that there are companies we want to exclude, it may be that there are specific time period that impact the data. These findings might tell us we need to transform the data for tests we will later use. We may find that the year has an impact on the data also, which will further change how we want to analyse further.\n",
    "\n",
    "Importantly, there are 500 companies in the data with 9 columns of values daily over a 5 year period. This is equivalent to approximately **5,850,000** individual values. This poses a significant computational challenge. We therefore need to find a way to minimize this number so that we can more effectively compute. We will therefore average high and low scores for each company and use only these means. \n",
    "\n",
    "We will then Find the first and fourth quartiles of this data. We can then compare these score and more importantly, test to see if either the fourth or the 1st quartile differ significntly enough from the second and third quartiles.\n",
    "\n",
    "**We will do the following:**\n",
    "- Find the top quartile of companies\n",
    "- Find the bottom quartile of companies\n",
    "- Compare first and fourth with the second and third\n",
    "- Compute the interquartile range (IQR)\n",
    "    - Exclude companies that can be classified as outliers using the IQR\n",
    "- If there are no outliers, run comparisons \n",
    "    - Exclude companies that skew the data the most\n",
    "- Re-run means and medians without outliers\n",
    "- Compare descriptives for years\n",
    "- Test skewness and goodness of fit"
   ]
  },
  {
   "cell_type": "code",
   "execution_count": 9,
   "id": "7860ea45-a5f9-4ad6-9dff-1258f109c003",
   "metadata": {
    "ExecuteTime": {
     "end_time": "2023-12-15T06:23:02.447662Z",
     "start_time": "2023-12-15T06:22:56.635348Z"
    }
   },
   "outputs": [],
   "source": [
    "# Import modules and variables we need \n",
    "import numpy as np\n",
    "import pandas as pd\n",
    "yfin_csv = pd.read_csv(r'https://raw.githubusercontent.com/alexcrockett/Jupyter-Playground/personal/yfin_dataset/02-data/stock_details_5_years.csv')\n",
    "import yfin_descriptives_py # import our previous work\n",
    "from yfin_descriptives_py import x_1, x_2, x_3, x_4, x_5, x_6, x_7 # import arrays\n",
    "from yfin_descriptives_py import di_mean1, di_median1, di_max_min_range, di_var1, di_std1 # import disctionaries"
   ]
  },
  {
   "cell_type": "code",
   "execution_count": 10,
   "id": "31db1618-549d-44a0-9a5c-ddb2b327860d",
   "metadata": {
    "ExecuteTime": {
     "end_time": "2023-12-15T06:23:02.531538Z",
     "start_time": "2023-12-15T06:23:02.459102Z"
    }
   },
   "outputs": [
    {
     "name": "stdout",
     "output_type": "stream",
     "text": [
      "Companies in the first quartile:\n",
      "Company\n",
      "ABEV     2.947499\n",
      "BAC     30.790636\n",
      "BBD      4.368681\n",
      "BBVA     4.879372\n",
      "BCE     40.470195\n",
      "          ...    \n",
      "WFC     39.525165\n",
      "WIT      5.356330\n",
      "WMB     23.720061\n",
      "WPM     36.569403\n",
      "WY      28.026198\n",
      "Name: Average, Length: 123, dtype: float64\n",
      "-------------------\n",
      "Companies in the fourth quartile:\n",
      "Company\n",
      "ACN     249.476417\n",
      "ADBE    417.060667\n",
      "ADP     184.081445\n",
      "ADSK    215.628537\n",
      "AMGN    212.491112\n",
      "           ...    \n",
      "VRTX    247.068470\n",
      "WDAY    202.697743\n",
      "WST     270.453652\n",
      "WTW     204.263422\n",
      "ZM      173.939238\n",
      "Name: Average, Length: 123, dtype: float64\n",
      "-------------------\n",
      "Lowest company in the first quartile:\n",
      "Company\n",
      "LYG    2.102133\n",
      "Name: Average, dtype: float64\n",
      "-------------------\n",
      "Highest in the first quartile\n",
      "Company\n",
      "BK    42.263321\n",
      "Name: Average, dtype: float64\n",
      "-------------------\n",
      "Lowest company in the fourth quartile:\n",
      "Company\n",
      "VMC    155.851637\n",
      "Name: Average, dtype: float64\n",
      "-------------------\n",
      "Highest company in the fourth quartile:\n",
      "Company\n",
      "NVR    4369.584363\n",
      "Name: Average, dtype: float64\n",
      "-------------------\n"
     ]
    }
   ],
   "source": [
    "# Finding the fourth quartile of data\n",
    "\n",
    "## Compute the average between high and low for each company:\n",
    "yfin_csv['Average'] = (yfin_csv['High'] + yfin_csv['Low']) / 2 # Here we are defining a new column called Average\n",
    "\n",
    "## Group by company and compute the mean of the 'Average' column\n",
    "company_averages = yfin_csv.groupby('Company')['Average'].mean() # Now we create a new variable to group companies with their means and compute means for these groups\n",
    "\n",
    "## Find the quartiles\n",
    "first_quartile = company_averages.quantile(0.25) # Define the 1st quartile\n",
    "fourth_quartile = company_averages.quantile(0.75) #Define the 4th quartile\n",
    "\n",
    "## Segment the quartiles\n",
    "companies_in_first_quartile = company_averages[company_averages <= first_quartile] # Identify those in the 1st quartile\n",
    "companies_in_fourth_quartile = company_averages[company_averages >= fourth_quartile] # Identify those in the 4th quartile\n",
    "\n",
    "## Print the first quartile\n",
    "print(\"Companies in the first quartile:\")\n",
    "print(companies_in_first_quartile)\n",
    "print(\"-------------------\")\n",
    "\n",
    "print(\"Companies in the fourth quartile:\")\n",
    "print(companies_in_fourth_quartile)\n",
    "print(\"-------------------\")\n",
    "\n",
    "# Sort the data\n",
    "\n",
    "## Sort companies in the first quartile in ascending order to find the lowest\n",
    "lowest_in_first_quartile = companies_in_first_quartile.sort_values(ascending=True)\n",
    "highest_in_first_quartile = companies_in_first_quartile.sort_values(ascending=False)\n",
    "\n",
    "## Sort companies in the fourth quartile in descending order to find the highest\n",
    "lowest_in_fourth_quartile = companies_in_fourth_quartile.sort_values(ascending=True)\n",
    "highest_in_fourth_quartile = companies_in_fourth_quartile.sort_values(ascending=False)\n",
    "\n",
    "## Print the lowest company in the first quartile\n",
    "print(\"Lowest company in the first quartile:\")\n",
    "print(lowest_in_first_quartile.head(1))  # .head(1) gets the top company after sorting in ascending order\n",
    "print(\"-------------------\")\n",
    "\n",
    "## Print the highest company in the first quartile\n",
    "print(\"Highest in the first quartile\")\n",
    "print(highest_in_first_quartile.head(1))\n",
    "print(\"-------------------\")\n",
    "\n",
    "## Print the lowest company in the fourth quartile\n",
    "print(\"Lowest company in the fourth quartile:\")\n",
    "print(lowest_in_fourth_quartile.head(1))  # .head(1) gets the top company\n",
    "print(\"-------------------\")\n",
    "\n",
    "\n",
    "# Print the highest company in the fourth quartile\n",
    "print(\"Highest company in the fourth quartile:\")\n",
    "print(highest_in_fourth_quartile.head(1))  # .head(1) gets the top company\n",
    "print(\"-------------------\")\n"
   ]
  },
  {
   "cell_type": "markdown",
   "source": [
    "# Notes on medians\n",
    "In the above code we created a new column and created an average, for each row, based on the highest and lowest scores. We then grouped scores by company and then took the mean for each group. This gave us a smaller set of data to work with. We then computed the 1st and 4th quartiles. \n",
    "\n",
    "Even though there may be some loss of fidelity in this view, it gives us a view into the companies that may be having an effect on the data.We can use this to make decisions about the original dat set.\n",
    "\n",
    "We can see that the company with the lowest mean is LYG with 2.10 USD and the highest mean is NVR with 4369.58 USD.\n",
    "\n",
    "In the notebook 'fin_descriptives.ipynb' we saw that the average low score was 138.28 USD and the average high score was 141.85 (variables mean_low and mean_high respectively). In other words our lowest score is  136.18 USD from the mean and the highest is 4,227.73 from mean_high. \n",
    "\n",
    "In fact looking at the highest value in the 1st quartile and the lowest value in the fourth quartile gives a little more color to the data. The highest value in the 1st quartile is around 6.8 times smaller than the standard deviation while lowest value in the fourth quartile is more than 1/2 the size of the standard deviation. \n",
    "\n",
    "Qualitatively this suggests that there is positive skew that most likely is impacting the shape. It therefore makes sense to take the follwoing steps:\n",
    "\n",
    "- Check to see which companies have a significantly sized range\n",
    "- Use the interquartile range to exlude outliers. \n",
    "- Graph the results \n",
    "\n"
   ],
   "metadata": {
    "collapsed": false
   },
   "id": "90087fbbd501fa4d"
  }
 ],
 "metadata": {
  "kernelspec": {
   "display_name": "Python 3 (ipykernel)",
   "language": "python",
   "name": "python3"
  },
  "language_info": {
   "codemirror_mode": {
    "name": "ipython",
    "version": 3
   },
   "file_extension": ".py",
   "mimetype": "text/x-python",
   "name": "python",
   "nbconvert_exporter": "python",
   "pygments_lexer": "ipython3",
   "version": "3.8.17"
  }
 },
 "nbformat": 4,
 "nbformat_minor": 5
}
