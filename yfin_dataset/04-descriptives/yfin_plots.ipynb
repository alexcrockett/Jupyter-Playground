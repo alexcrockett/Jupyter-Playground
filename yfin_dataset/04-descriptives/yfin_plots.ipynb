{
 "cells": [
  {
   "cell_type": "markdown",
   "id": "1d37a03a-12a7-464d-a1ff-349ea9d78024",
   "metadata": {},
   "source": [
    "# Graphical output\n",
    "\n",
    "We want to produce graphs for the data, ths includes data from set_1 and set_2 defined at the end of 'yfin_IQR_outliers.ipynb'. We will use the graphs to see what kinds of analyses could be interesting. \n",
    "\n",
    "We want to be considerate about our choice of plots. First, we want to see how the genral descriptives shape out. Histograms and frequency plots in general will help us see how the data is shaped. We saw that there is a high range for scores. We have not yet explored kurtosis. We should first look at how means and other scores are distributed. We should also produce boxplots to visually verify using 'set_2' over 'set_1'. It will also be interesting to compare different groups as well as see what various plots exploring associations look like.\n",
    "\n",
    "## We will look at\n",
    "1. Histograms \n",
    "    1. Means -> frequencies\n",
    "    2. Aannual means\n",
    "    3. Range -> frequencies\n",
    "2. Boxplots\n",
    "    1. Range data\n",
    "    2. High and low\n",
    "3. Graphs to compare data\n",
    "    1. Variations annurally\n",
    "    2. High and low\n",
    "    3. Range and high\n",
    "    4. Range and low\n",
    "    5. Open and close"
   ]
  },
  {
   "cell_type": "code",
   "execution_count": 15,
   "id": "3d7e64a0-e737-4e86-8841-4e3d38323462",
   "metadata": {
    "ExecuteTime": {
     "end_time": "2023-12-21T03:46:52.718231Z",
     "start_time": "2023-12-21T03:46:42.612323Z"
    }
   },
   "outputs": [],
   "source": [
    "# Import modules and variables we need \n",
    "\n",
    "## Libraries\n",
    "import numpy as np\n",
    "import matplotlib as plt\n",
    "import pandas as pd\n",
    "\n",
    "## Original data file\n",
    "yfin_csv = pd.read_csv(r'https://raw.githubusercontent.com/alexcrockett/Jupyter-Playground/personal/yfin_dataset/02-data/stock_details_5_years.csv')\n",
    "\n",
    "## Past work\n",
    "import yfin_descriptives_py\n",
    "import yfin_group_range_py\n",
    "import yfin_IQR_outliers_py\n",
    "\n",
    "## Data\n",
    "from yfin_descriptives_py import di_mean1, di_median1, di_max_min_range, di_var1, di_std1 # import disctionaries\n",
    "from yfin_descriptives_py import x_1, x_2, x_3, x_4, x_5, x_6, x_7 # import arrays\n",
    "from yfin_group_range_py import company_averages # Averages for each company each day\n",
    "from yfin_group_range_py import company_ranges_mean # Mean range per company\n",
    "from yfin_IQR_outliers_py import set_1, set_2 # so we can call our dataframes more easily\n",
    "from yfin_IQR_outliers_py import median # median scores\n",
    "from yfin_IQR_outliers_py import first_quartile, third_quartile # First and third quartiles\n",
    "from yfin_IQR_outliers_py import yfin_restricted_set"
   ]
  },
  {
   "cell_type": "markdown",
   "id": "9d9447ec-ac70-4be8-af38-d0d619608960",
   "metadata": {},
   "source": [
    "## Histograms\n",
    "\n",
    "To make histograms with mean frequencies we will need to segment the data into groups such that we means that fall within certain ranges. We saw in our descriptives that there are scores ranging from just over 1 USD to 6000 USD. We need an appropriate interval to parse the data for frequencies. Arguably, groups of 10 are probably too narrow and may not be that much visually informative than interval groups parsed at 50, which may also not be helpful. \n",
    "\n",
    "We will therefore start with table to see what the frequencies are to make a decision about what intervals we need. Ultimately we want a table/dataframe that looks something like this:\n",
    "\n",
    "| Mean Interval | Interval 1 | Interval 2 | \n",
    "|---------------|-------|-------|\n",
    "| Set 1 | Count | Count | \n",
    "| Set 2 | Count | Count | \n"
   ]
  },
  {
   "cell_type": "code",
   "execution_count": 16,
   "id": "a52bb440-944b-4661-a273-28213e141c7a",
   "metadata": {
    "ExecuteTime": {
     "end_time": "2023-12-21T03:47:11.277793Z",
     "start_time": "2023-12-21T03:47:11.244125Z"
    }
   },
   "outputs": [
    {
     "ename": "TypeError",
     "evalue": "'method' object is not subscriptable",
     "output_type": "error",
     "traceback": [
      "\u001B[0;31m---------------------------------------------------------------------------\u001B[0m",
      "\u001B[0;31mTypeError\u001B[0m                                 Traceback (most recent call last)",
      "Cell \u001B[0;32mIn[16], line 9\u001B[0m\n\u001B[1;32m      6\u001B[0m set_2 \u001B[38;5;241m=\u001B[39m yfin_restricted_set\u001B[38;5;241m.\u001B[39mcopy \u001B[38;5;66;03m# A copy of the data without outliers\u001B[39;00m\n\u001B[1;32m      8\u001B[0m set_1_means \u001B[38;5;241m=\u001B[39m yfin_csv[\u001B[38;5;124m'\u001B[39m\u001B[38;5;124mset_1_means\u001B[39m\u001B[38;5;124m'\u001B[39m] \u001B[38;5;241m=\u001B[39m (yfin_csv[\u001B[38;5;124m'\u001B[39m\u001B[38;5;124mHigh\u001B[39m\u001B[38;5;124m'\u001B[39m] \u001B[38;5;241m+\u001B[39m yfin_csv[\u001B[38;5;124m'\u001B[39m\u001B[38;5;124mLow\u001B[39m\u001B[38;5;124m'\u001B[39m]) \u001B[38;5;241m/\u001B[39m \u001B[38;5;241m2\u001B[39m \u001B[38;5;66;03m# Here we are defining a new column called set_1_means\u001B[39;00m\n\u001B[0;32m----> 9\u001B[0m set_2_means \u001B[38;5;241m=\u001B[39m set_2[\u001B[38;5;124m'\u001B[39m\u001B[38;5;124mset_2_means\u001B[39m\u001B[38;5;124m'\u001B[39m] \u001B[38;5;241m=\u001B[39m (\u001B[43mset_2\u001B[49m\u001B[43m[\u001B[49m\u001B[38;5;124;43m'\u001B[39;49m\u001B[38;5;124;43mHigh\u001B[39;49m\u001B[38;5;124;43m'\u001B[39;49m\u001B[43m]\u001B[49m \u001B[38;5;241m+\u001B[39m set_2[\u001B[38;5;124m'\u001B[39m\u001B[38;5;124mLow\u001B[39m\u001B[38;5;124m'\u001B[39m]) \u001B[38;5;241m/\u001B[39m \u001B[38;5;241m2\u001B[39m\n",
      "\u001B[0;31mTypeError\u001B[0m: 'method' object is not subscriptable"
     ]
    }
   ],
   "source": [
    "# Defining initial variables and finding the overall count\n",
    "\n",
    "## Create Means lists\n",
    "\n",
    "set_1 = yfin_csv.copy # A copy of the original data\n",
    "set_2 = yfin_restricted_set.copy # A copy of the data without outliers\n",
    "\n",
    "set_1_means = yfin_csv['set_1_means'] = (yfin_csv['High'] + yfin_csv['Low']) / 2 # Here we are defining a new column called set_1_means\n",
    "set_2_means = set_2['set_2_means'] = (set_2['High'] + set_2['Low']) / 2 # Here we are defining a new column called set_2_means\n"
   ]
  },
  {
   "cell_type": "code",
   "execution_count": 11,
   "id": "9f06c871-232f-4c20-8eb7-5395bdb63be5",
   "metadata": {
    "ExecuteTime": {
     "end_time": "2023-12-21T03:43:51.394138Z",
     "start_time": "2023-12-21T03:43:51.363372Z"
    }
   },
   "outputs": [
    {
     "ename": "SyntaxError",
     "evalue": "closing parenthesis '}' does not match opening parenthesis '[' on line 5 (2085148216.py, line 7)",
     "output_type": "error",
     "traceback": [
      "\u001B[0;36m  Cell \u001B[0;32mIn[11], line 7\u001B[0;36m\u001B[0m\n\u001B[0;31m    }\u001B[0m\n\u001B[0m    ^\u001B[0m\n\u001B[0;31mSyntaxError\u001B[0m\u001B[0;31m:\u001B[0m closing parenthesis '}' does not match opening parenthesis '[' on line 5\n"
     ]
    }
   ],
   "source": [
    "# Creating the dataframe\n",
    "\n",
    "## First let's get counts and a max for all\n",
    "mean_freq_frame = {\n",
    "    \"Count\": [set_1['Set_1_Means'].count(), set_2['Set_2_Means'].count(),\n",
    "    \n",
    "}"
   ]
  }
 ],
 "metadata": {
  "kernelspec": {
   "display_name": "Python 3 (ipykernel)",
   "language": "python",
   "name": "python3"
  },
  "language_info": {
   "codemirror_mode": {
    "name": "ipython",
    "version": 3
   },
   "file_extension": ".py",
   "mimetype": "text/x-python",
   "name": "python",
   "nbconvert_exporter": "python",
   "pygments_lexer": "ipython3",
   "version": "3.8.17"
  }
 },
 "nbformat": 4,
 "nbformat_minor": 5
}
