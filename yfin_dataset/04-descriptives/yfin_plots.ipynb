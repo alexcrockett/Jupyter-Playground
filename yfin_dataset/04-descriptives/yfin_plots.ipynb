{
 "cells": [
  {
   "cell_type": "markdown",
   "id": "1d37a03a-12a7-464d-a1ff-349ea9d78024",
   "metadata": {},
   "source": [
    "# Graphical output\n",
    "\n",
    "We want to produce graphs for the data, ths includes data from set_1 and set_2 defined at the end of 'yfin_IQR_outliers.ipynb'. We will use the graphs to see what kinds of analyses could be interesting. \n",
    "\n",
    "We want to be considerate about our choice of plots. First, we want to see how the genral descriptives shape out. Histograms and frequency plots in general will help us see how the data is shaped. We saw that there is a high range for scores. We have not yet explored kurtosis. We should first look at how means and other scores are distributed. We should also produce boxplots to visually verify using 'set_2' over 'set_1'. It will also be interesting to compare different groups as well as see what various plots exploring associations look like.\n",
    "\n",
    "## We will look at\n",
    "1. Histograms \n",
    "    1. Means -> frequencies\n",
    "    2. Aannual means\n",
    "    3. Range -> frequencies\n",
    "2. Boxplots\n",
    "    1. Range data\n",
    "    2. High and low\n",
    "3. Graphs to compare data\n",
    "    1. Variations annurally\n",
    "    2. High and low\n",
    "    3. Range and high\n",
    "    4. Range and low\n",
    "    5. Open and close"
   ]
  },
  {
   "cell_type": "code",
   "execution_count": 1,
   "id": "3d7e64a0-e737-4e86-8841-4e3d38323462",
   "metadata": {},
   "outputs": [
    {
     "name": "stdout",
     "output_type": "stream",
     "text": [
      "                        Date        Open        High         Low       Close  \\\n",
      "0  2018-11-29 00:00:00-05:00   43.829761   43.863354   42.639594   43.083508   \n",
      "1  2018-11-29 00:00:00-05:00  104.769074  105.519257  103.534595  104.636131   \n",
      "2  2018-11-29 00:00:00-05:00   54.176498   55.007500   54.099998   54.729000   \n",
      "3  2018-11-29 00:00:00-05:00   83.749496   84.499496   82.616501   83.678497   \n",
      "4  2018-11-29 00:00:00-05:00   39.692784   40.064904   38.735195   39.037853   \n",
      "\n",
      "      Volume  Dividends  Stock Splits Company  \n",
      "0  167080000       0.00           0.0    AAPL  \n",
      "1   28123200       0.00           0.0    MSFT  \n",
      "2   31004000       0.00           0.0   GOOGL  \n",
      "3  132264000       0.00           0.0    AMZN  \n",
      "4   54917200       0.04           0.0    NVDA  \n"
     ]
    }
   ],
   "source": [
    "# Import modules and variables we need \n",
    "\n",
    "## Libraries\n",
    "import numpy as np\n",
    "import matplotlib as plt\n",
    "import pandas as pd\n",
    "\n",
    "## Original data file\n",
    "yfin_csv = pd.read_csv(r'https://raw.githubusercontent.com/alexcrockett/Jupyter-Playground/personal/yfin_dataset/02-data/stock_details_5_years.csv')\n",
    "\n",
    "## Past work\n",
    "import yfin_descriptives_py\n",
    "import yfin_group_range__py\n",
    "import yfin_IQR_outliers_py\n",
    "\n",
    "## Data\n",
    "from yfin_descriptives_py import di_mean1, di_median1, di_max_min_range, di_var1, di_std1 # import disctionaries\n",
    "from yfin_descriptives_py import x_1, x_2, x_3, x_4, x_5, x_6, x_7 # import arrays\n",
    "from yfin_group_range_py import company_averages # Averages for each company each day\n",
    "from yfin_group_range_py import company_ranges_mean # Mean range per company\n",
    "from yfin_IQR_outliers_py import set_1, set_2 # so we can call our dataframes more easily\n",
    "\n"
   ]
  },
  {
   "cell_type": "markdown",
   "id": "9d9447ec-ac70-4be8-af38-d0d619608960",
   "metadata": {},
   "source": [
    "## Histograms\n",
    "\n",
    "To make histograms with mean frequencies we will need to segment the data into groups such that we means that fall within certain ranges. We saw in our descriptives that there are scores ranging from just over 1 USD to 6000 USD. We need an appropriate interval to parse the data for frequencies. Arguably, groups of 10 are probably too narrow and may not be that much visually informative than interval groups parsed at 50, which may also not be helpful. \n",
    "\n",
    "We will therefore start with table to see what the frequencies are to make a decision about what intervals we need. Ultimately we want a table/dataframe that looks something like this:\n",
    "\n",
    "| Mean Interval | Set 1 | Set 2 | \n",
    "|---------------|-------|-------|\n",
    "| Interval 1 | Count | Count | \n",
    "| Interval 2 | Count | Count | \n"
   ]
  },
  {
   "cell_type": "code",
   "execution_count": null,
   "id": "a52bb440-944b-4661-a273-28213e141c7a",
   "metadata": {},
   "outputs": [],
   "source": []
  }
 ],
 "metadata": {
  "kernelspec": {
   "display_name": "Python 3 (ipykernel)",
   "language": "python",
   "name": "python3"
  },
  "language_info": {
   "codemirror_mode": {
    "name": "ipython",
    "version": 3
   },
   "file_extension": ".py",
   "mimetype": "text/x-python",
   "name": "python",
   "nbconvert_exporter": "python",
   "pygments_lexer": "ipython3",
   "version": "3.8.17"
  }
 },
 "nbformat": 4,
 "nbformat_minor": 5
}
