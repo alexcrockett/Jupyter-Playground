{
 "cells": [
  {
   "cell_type": "markdown",
   "source": [
    "# Notes (IQR)\n",
    "\n",
    "All we are going to do in this file is compute the inter-quartile-range and create a variable that references out data without these outliers. We're also going to create a third variable that excludes companies along with the IQR.\n",
    "\n",
    "For each, we will also compute a measure of skew to see how the data are shaped.\n",
    "\n",
    "As a note, the IQR is:\n",
    "$\\text{IQR} = Q3 - Q1$\n",
    "\n",
    "Outliers are considered:\n",
    "$Q1 - \\text{IQR} \\cdot 1.5$ and $Q3 + \\text{IQR} \\cdot 1.5$ "
   ],
   "metadata": {
    "collapsed": false
   },
   "id": "282489829e915947"
  },
  {
   "cell_type": "code",
   "execution_count": 3,
   "outputs": [],
   "source": [
    "# Importing libraries and variables\n",
    "\n",
    "import pandas as pd\n",
    "yfin_csv = pd.read_csv(r'https://raw.githubusercontent.com/alexcrockett/Jupyter-Playground/personal/yfin_dataset/02-data/stock_details_5_years.csv')\n",
    "from yfin_group_range_py import company_averages, first_quartile, fourth_quartile, companies_in_first_quartile, companies_in_fourth_quartile"
   ],
   "metadata": {
    "collapsed": false,
    "ExecuteTime": {
     "end_time": "2023-12-17T05:58:28.217710Z",
     "start_time": "2023-12-17T05:58:22.915278Z"
    }
   },
   "id": "7a0b6ae97ffdf8e1"
  },
  {
   "cell_type": "code",
   "execution_count": 6,
   "outputs": [
    {
     "name": "stdout",
     "output_type": "stream",
     "text": [
      "IQR=  112.21191762678677\n"
     ]
    }
   ],
   "source": [
    "# Defining the IQR\n",
    "\n",
    "## Define the 3rd Quartile and median\n",
    "median = company_averages.quantile(0.5)  # The median (50th percentile)\n",
    "third_quartile = fourth_quartile  # The third quartile (75th percentile)\n",
    "\n",
    "## Define companies in the third quartile\n",
    "companies_in_third_quartile = company_averages[(company_averages > median) & (company_averages <= third_quartile)]\n",
    "\n",
    "# Define the IQR\n",
    "IQR = third_quartile - first_quartile\n",
    "\n",
    "print(\"IQR= \", float(str(IQR)))"
   ],
   "metadata": {
    "collapsed": false,
    "ExecuteTime": {
     "end_time": "2023-12-17T21:45:57.660883Z",
     "start_time": "2023-12-17T21:45:57.615195Z"
    }
   },
   "id": "790c3461b8b8f25e"
  },
  {
   "cell_type": "code",
   "execution_count": 11,
   "outputs": [],
   "source": [
    "# Finding outliers\n",
    "outlier_scope = 1.5 * IQR \n",
    "\n",
    "## Calculate the lower bound for outliers\n",
    "outlier_lower_bound = first_quartile - outlier_scope\n",
    "\n",
    "## Identify outliers below the lower bound\n",
    "outliers_lower = company_averages[company_averages < outlier_lower_bound]\n",
    "\n",
    "# -----\n",
    "\n",
    "## Calculate the upper bound for outliers\n",
    "outlier_upper_bound = third_quartile + outlier_scope\n",
    "\n",
    "## Identify outliers below the lower bound\n",
    "outliers_upper = company_averages[company_averages > outlier_upper_bound]"
   ],
   "metadata": {
    "collapsed": false,
    "ExecuteTime": {
     "end_time": "2023-12-17T23:16:34.052233Z",
     "start_time": "2023-12-17T23:16:34.039930Z"
    }
   },
   "id": "ae5ebe8b499a1cb6"
  },
  {
   "cell_type": "code",
   "execution_count": 12,
   "outputs": [
    {
     "name": "stdout",
     "output_type": "stream",
     "text": [
      "Median:  80.71573753680524\n",
      "--------------------\n",
      "IQR:  112.21191762678677\n",
      "--------------------\n",
      "Outliers Scope:  168.31787644018016\n",
      "--------------------\n",
      " \n",
      "Outliers in the lower bound:\n",
      "Series([], Name: Average, dtype: float64)\n",
      "-------------------\n",
      "Outliers in the upper bound:\n",
      "Company\n",
      "ADBE      417.060667\n",
      "ASML      477.955218\n",
      "AVGO      445.429283\n",
      "AZO      1644.378406\n",
      "BKNG     2126.701202\n",
      "BLK       604.947085\n",
      "CHTR      495.415442\n",
      "CMG      1324.127961\n",
      "COST      394.662326\n",
      "CTAS      343.310389\n",
      "ELV       363.485461\n",
      "EQIX      638.804183\n",
      "FCNCA     702.096642\n",
      "FICO      473.674489\n",
      "GWW       434.757946\n",
      "HUBS      357.071477\n",
      "HUM       401.488365\n",
      "IDXX      410.794145\n",
      "INTU      381.231062\n",
      "LMT       369.306409\n",
      "LRCX      423.009993\n",
      "MELI     1032.599313\n",
      "MPWR      329.397594\n",
      "MSCI      400.496638\n",
      "MTD      1106.778430\n",
      "NFLX      398.320630\n",
      "NOC       365.952027\n",
      "NOW       439.452921\n",
      "NVR      4369.584363\n",
      "REGN      567.491359\n",
      "SPGI      326.449222\n",
      "TDG       552.684847\n",
      "TMO       448.295794\n",
      "ULTA      345.397342\n",
      "UNH       376.816534\n",
      "Name: Average, dtype: float64\n",
      "-------------------\n"
     ]
    }
   ],
   "source": [
    "# Review the results\n",
    "print(\"Median: \", median)\n",
    "print(\"--------------------\")\n",
    "\n",
    "print(\"IQR: \", float(str(IQR)))\n",
    "print(\"--------------------\")\n",
    "\n",
    "print(\"Outliers Scope: \", outlier_scope)\n",
    "print(\"--------------------\")\n",
    "\n",
    "print(\" \") # Add a little space for reading\n",
    "\n",
    "print(\"--------------------\")\n",
    "print(\"Outliers in the lower bound:\")\n",
    "print(outliers_lower)\n",
    "print(\"-------------------\")\n",
    "\n",
    "print(\"Outliers in the upper bound:\")\n",
    "print(outliers_upper)\n",
    "print(\"-------------------\")\n"
   ],
   "metadata": {
    "collapsed": false,
    "ExecuteTime": {
     "end_time": "2023-12-17T23:16:39.097206Z",
     "start_time": "2023-12-17T23:16:39.091206Z"
    }
   },
   "id": "bd4315004837a395"
  },
  {
   "cell_type": "code",
   "execution_count": 21,
   "outputs": [],
   "source": [
    "# Create a new dataframe without the outliers\n",
    "\n",
    "## Map companies to outliers\n",
    "outlier_companies = outliers_upper.index\n",
    "\n",
    "## Remove the comapnies\n",
    "yfin_restricted_set = yfin_csv[~yfin_csv['Company'].isin(outlier_companies)]"
   ],
   "metadata": {
    "collapsed": false,
    "ExecuteTime": {
     "end_time": "2023-12-18T00:32:51.065782Z",
     "start_time": "2023-12-18T00:32:51.017610Z"
    }
   },
   "id": "84025ad4cffcf47b"
  },
  {
   "cell_type": "markdown",
   "source": [
    "# Notes\n",
    "`outliers_upper.index` gives you the names of the companies that are outliers.\n",
    "\n",
    "`yfin_csv['Company'].isin(outlier_companies)` creates a boolean mask where each row is `True` if the company is in the list of outliers and `False` otherwise.\n",
    "\n",
    "The `~` operator negates the boolean mask, so you select all rows where the company is not an outlier.\n",
    "\n",
    "`yfin_csv[...]` with this mask removes the rows corresponding to outlier companies."
   ],
   "metadata": {
    "collapsed": false
   },
   "id": "71c73de9a4bd780a"
  },
  {
   "cell_type": "code",
   "execution_count": 22,
   "outputs": [
    {
     "name": "stdout",
     "output_type": "stream",
     "text": [
      "mean open: 96.44\n",
      "mean high: 97.64\n",
      "mean low: 95.22\n",
      "mean close: 96.45\n",
      "median open: 96.44\n",
      "median high: 97.64\n",
      "median low: 95.22\n",
      "median close: 96.45\n"
     ]
    }
   ],
   "source": [
    "# Revaluate the mean and median scores\n",
    "\n",
    "## Means\n",
    "mean_open_restricted = yfin_restricted_set['Open'].mean() # mean Open\n",
    "mean_high_restricted = yfin_restricted_set['High'].mean() # mean High\n",
    "mean_low_restricted = yfin_restricted_set['Low'].mean() # mean Low\n",
    "mean_close_restricted = yfin_restricted_set['Close'].mean() # mean Close\n",
    "\n",
    "## Medians\n",
    "median_open_restricted = yfin_restricted_set['Open'].mean() # median Open\n",
    "median_high_restricted = yfin_restricted_set['High'].mean() # median High\n",
    "median_low_restricted = yfin_restricted_set['Low'].mean() # median Low\n",
    "median_close_restricted = yfin_restricted_set['Close'].mean() # median Close\n",
    "\n",
    "## Define a set of values to print\n",
    "central_tendency_restricted = {\n",
    "    \"mean open\": mean_open_restricted,\n",
    "    \"mean high\": mean_high_restricted,\n",
    "    \"mean low\": mean_low_restricted,\n",
    "    \"mean close\": mean_close_restricted,\n",
    "    \"median open\": median_open_restricted,\n",
    "    \"median high\": median_high_restricted,\n",
    "    \"median low\": median_low_restricted,\n",
    "    \"median close\": median_close_restricted\n",
    "}\n",
    "\n",
    "# Print the results\n",
    "for key, value in central_tendency_restricted.items():\n",
    "    print(f\"{key}: {value:.2f}\")"
   ],
   "metadata": {
    "collapsed": false,
    "ExecuteTime": {
     "end_time": "2023-12-18T00:32:56.707757Z",
     "start_time": "2023-12-18T00:32:56.683573Z"
    }
   },
   "id": "427251efb9261942"
  },
  {
   "cell_type": "markdown",
   "source": [
    "# Notes\n",
    "\n",
    "We can see that the gap between mean and median scores has radiacally reduced by removing ~35 companies from the set of 500. \n",
    "\n",
    "This gives us the data-sets\n",
    "- yfin_csv\n",
    "- yfin_restricted_set\n",
    "\n",
    "We want one more set, a set without the outliers and without scores that have extreme ranges. We will also want to rename our datasets so they're easier to type. We will call them \n",
    "- set_1\n",
    "- set_2\n",
    "- set_3"
   ],
   "metadata": {
    "collapsed": false
   },
   "id": "32abdbdf71127134"
  },
  {
   "cell_type": "code",
   "execution_count": null,
   "outputs": [],
   "source": [],
   "metadata": {
    "collapsed": false
   },
   "id": "943c4b662b374892"
  }
 ],
 "metadata": {
  "kernelspec": {
   "display_name": "Python 3",
   "language": "python",
   "name": "python3"
  },
  "language_info": {
   "codemirror_mode": {
    "name": "ipython",
    "version": 2
   },
   "file_extension": ".py",
   "mimetype": "text/x-python",
   "name": "python",
   "nbconvert_exporter": "python",
   "pygments_lexer": "ipython2",
   "version": "2.7.6"
  }
 },
 "nbformat": 4,
 "nbformat_minor": 5
}
