{
 "cells": [
  {
   "cell_type": "markdown",
   "source": [
    "# Notes (IQR)\n",
    "\n",
    "All we are going to do in this file is compute the inter-quartile-range and create a variable that references out data without these outliers. We're also going to create a third variable that excludes companies along with the IQR.\n",
    "\n",
    "For each, we will also compute a measure of skew to see how the data are shaped.\n",
    "\n",
    "As a note, the IQR is:\n",
    "$\\text{IQR} = Q3 - Q1$\n",
    "\n",
    "Outliers are considered:\n",
    "$Q1 - \\text{IQR} \\cdot 1.5$ and $Q3 + \\text{IQR} \\cdot 1.5$ "
   ],
   "metadata": {
    "collapsed": false
   },
   "id": "282489829e915947"
  },
  {
   "cell_type": "code",
   "execution_count": 3,
   "outputs": [],
   "source": [
    "# Importing libraries and variables\n",
    "\n",
    "import pandas as pd\n",
    "yfin_csv = pd.read_csv(r'https://raw.githubusercontent.com/alexcrockett/Jupyter-Playground/personal/yfin_dataset/02-data/stock_details_5_years.csv')\n",
    "import yfin_group_range_py\n",
    "from yfin_group_range_py import company_averages, first_quartile, fourth_quartile, companies_in_first_quartile, companies_in_fourth_quartile"
   ],
   "metadata": {
    "collapsed": false,
    "ExecuteTime": {
     "end_time": "2023-12-17T05:58:28.217710Z",
     "start_time": "2023-12-17T05:58:22.915278Z"
    }
   },
   "id": "7a0b6ae97ffdf8e1"
  },
  {
   "cell_type": "code",
   "execution_count": null,
   "outputs": [],
   "source": [],
   "metadata": {
    "collapsed": false
   },
   "id": "790c3461b8b8f25e"
  }
 ],
 "metadata": {
  "kernelspec": {
   "display_name": "Python 3",
   "language": "python",
   "name": "python3"
  },
  "language_info": {
   "codemirror_mode": {
    "name": "ipython",
    "version": 2
   },
   "file_extension": ".py",
   "mimetype": "text/x-python",
   "name": "python",
   "nbconvert_exporter": "python",
   "pygments_lexer": "ipython2",
   "version": "2.7.6"
  }
 },
 "nbformat": 4,
 "nbformat_minor": 5
}
