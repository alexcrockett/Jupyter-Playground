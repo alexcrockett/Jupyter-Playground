{
 "cells": [
  {
   "cell_type": "code",
   "execution_count": 8,
   "id": "3d7e64a0-e737-4e86-8841-4e3d38323462",
   "metadata": {},
   "outputs": [],
   "source": [
    "# Import modules and variables we need \n",
    "import yfin_descriptives_py # import our previous work\n",
    "from yfin_descriptives_py import x_1, x_2, x_3, x_4, x_5, x_6, x_7 # import arrays\n",
    "from yfin_descriptives_py import di_mean1, di_median1, di_max_min_range, di_var1, di_std1 # import disctionaries\n",
    "import numpy as np"
   ]
  },
  {
   "cell_type": "code",
   "execution_count": null,
   "id": "a02f359f-3e2f-4726-a273-eaf362ddb247",
   "metadata": {},
   "outputs": [],
   "source": []
  }
 ],
 "metadata": {
  "kernelspec": {
   "display_name": "Python 3 (ipykernel)",
   "language": "python",
   "name": "python3"
  },
  "language_info": {
   "codemirror_mode": {
    "name": "ipython",
    "version": 3
   },
   "file_extension": ".py",
   "mimetype": "text/x-python",
   "name": "python",
   "nbconvert_exporter": "python",
   "pygments_lexer": "ipython3",
   "version": "3.8.17"
  }
 },
 "nbformat": 4,
 "nbformat_minor": 5
}
