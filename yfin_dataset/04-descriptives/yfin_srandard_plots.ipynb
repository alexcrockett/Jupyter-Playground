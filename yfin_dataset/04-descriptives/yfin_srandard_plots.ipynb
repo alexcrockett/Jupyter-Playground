{
 "cells": [
  {
   "cell_type": "code",
   "execution_count": 1,
   "id": "3d7e64a0-e737-4e86-8841-4e3d38323462",
   "metadata": {},
   "outputs": [
    {
     "name": "stdout",
     "output_type": "stream",
     "text": [
      "                        Date        Open        High         Low       Close  \\\n",
      "0  2018-11-29 00:00:00-05:00   43.829761   43.863354   42.639594   43.083508   \n",
      "1  2018-11-29 00:00:00-05:00  104.769074  105.519257  103.534595  104.636131   \n",
      "2  2018-11-29 00:00:00-05:00   54.176498   55.007500   54.099998   54.729000   \n",
      "3  2018-11-29 00:00:00-05:00   83.749496   84.499496   82.616501   83.678497   \n",
      "4  2018-11-29 00:00:00-05:00   39.692784   40.064904   38.735195   39.037853   \n",
      "\n",
      "      Volume  Dividends  Stock Splits Company  \n",
      "0  167080000       0.00           0.0    AAPL  \n",
      "1   28123200       0.00           0.0    MSFT  \n",
      "2   31004000       0.00           0.0   GOOGL  \n",
      "3  132264000       0.00           0.0    AMZN  \n",
      "4   54917200       0.04           0.0    NVDA  \n"
     ]
    }
   ],
   "source": [
    "# Import modules and variables we need \n",
    "import yfin_descriptives_py # import our previous work\n",
    "from yfin_descriptives_py import x_1, x_2, x_3, x_4, x_5, x_6, x_7 # import arrays\n",
    "from yfin_descriptives_py import di_mean1, di_median1, di_max_min_range, di_var1, di_std1 # import disctionaries\n",
    "import numpy as np\n",
    "import matplotlib as plt\n",
    "import pandas as pd"
   ]
  },
  {
   "cell_type": "code",
   "execution_count": null,
   "id": "a02f359f-3e2f-4726-a273-eaf362ddb247",
   "metadata": {},
   "outputs": [],
   "source": []
  }
 ],
 "metadata": {
  "kernelspec": {
   "display_name": "Python 3 (ipykernel)",
   "language": "python",
   "name": "python3"
  },
  "language_info": {
   "codemirror_mode": {
    "name": "ipython",
    "version": 3
   },
   "file_extension": ".py",
   "mimetype": "text/x-python",
   "name": "python",
   "nbconvert_exporter": "python",
   "pygments_lexer": "ipython3",
   "version": "3.8.17"
  }
 },
 "nbformat": 4,
 "nbformat_minor": 5
}
